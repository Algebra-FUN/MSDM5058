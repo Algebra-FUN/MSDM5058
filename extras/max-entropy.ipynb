{
 "cells": [
  {
   "cell_type": "code",
   "execution_count": 1,
   "id": "33831d68-9052-4619-ab67-091236b702ed",
   "metadata": {
    "tags": []
   },
   "outputs": [],
   "source": [
    "using Ipopt\n",
    "using JuMP"
   ]
  },
  {
   "cell_type": "code",
   "execution_count": 2,
   "id": "4c9610af-0b8f-47c2-8921-31f7d9dae302",
   "metadata": {
    "tags": []
   },
   "outputs": [
    {
     "data": {
      "text/plain": [
       "A JuMP Model\n",
       "Feasibility problem with:\n",
       "Variables: 0\n",
       "Model mode: AUTOMATIC\n",
       "CachingOptimizer state: EMPTY_OPTIMIZER\n",
       "Solver name: Ipopt"
      ]
     },
     "execution_count": 2,
     "metadata": {},
     "output_type": "execute_result"
    }
   ],
   "source": [
    "model = Model(Ipopt.Optimizer)"
   ]
  },
  {
   "cell_type": "code",
   "execution_count": 3,
   "id": "ac03f4bb-6bd2-4503-8e8d-9ca675992154",
   "metadata": {
    "tags": []
   },
   "outputs": [
    {
     "data": {
      "text/plain": [
       "4-element Vector{VariableRef}:\n",
       " p[1]\n",
       " p[2]\n",
       " p[3]\n",
       " p[4]"
      ]
     },
     "execution_count": 3,
     "metadata": {},
     "output_type": "execute_result"
    }
   ],
   "source": [
    "@variable(model,0≤p[1:4]≤1)"
   ]
  },
  {
   "cell_type": "code",
   "execution_count": 4,
   "id": "09274c5f-671b-4efc-8be5-108cea403042",
   "metadata": {
    "tags": []
   },
   "outputs": [
    {
     "data": {
      "text/latex": [
       "$$ p_{1} + p_{2} + p_{3} + p_{4} = 1.0 $$"
      ],
      "text/plain": [
       "p[1] + p[2] + p[3] + p[4] = 1.0"
      ]
     },
     "execution_count": 4,
     "metadata": {},
     "output_type": "execute_result"
    }
   ],
   "source": [
    "@constraint(model,sum(p)==1)"
   ]
  },
  {
   "cell_type": "code",
   "execution_count": 5,
   "id": "d1c09fc8-15af-4e36-ae7f-d3be58a3116e",
   "metadata": {
    "tags": []
   },
   "outputs": [
    {
     "data": {
      "text/latex": [
       "$$ p_{1} + 2 p_{2} + 3 p_{3} + 8 p_{4} = 2.5 $$"
      ],
      "text/plain": [
       "p[1] + 2 p[2] + 3 p[3] + 8 p[4] = 2.5"
      ]
     },
     "execution_count": 5,
     "metadata": {},
     "output_type": "execute_result"
    }
   ],
   "source": [
    "a = [1;2;3;8]\n",
    "@constraint(model,a'*p==2.5)"
   ]
  },
  {
   "cell_type": "code",
   "execution_count": 6,
   "id": "ceecc7f8-c5c4-4110-82de-803d227030ea",
   "metadata": {
    "tags": []
   },
   "outputs": [],
   "source": [
    "@NLobjective(model,Max,-sum(pᵢ*log(pᵢ) for pᵢ in p))"
   ]
  },
  {
   "cell_type": "code",
   "execution_count": 7,
   "id": "9a6beb02-8fbb-4f59-8791-bdf6ada07ee3",
   "metadata": {
    "tags": []
   },
   "outputs": [
    {
     "name": "stdout",
     "output_type": "stream",
     "text": [
      "\n",
      "******************************************************************************\n",
      "This program contains Ipopt, a library for large-scale nonlinear optimization.\n",
      " Ipopt is released as open source code under the Eclipse Public License (EPL).\n",
      "         For more information visit https://github.com/coin-or/Ipopt\n",
      "******************************************************************************\n",
      "\n",
      "This is Ipopt version 3.14.4, running with linear solver MUMPS 5.5.1.\n",
      "\n",
      "Number of nonzeros in equality constraint Jacobian...:        8\n",
      "Number of nonzeros in inequality constraint Jacobian.:        0\n",
      "Number of nonzeros in Lagrangian Hessian.............:        4\n",
      "\n",
      "Total number of variables............................:        4\n",
      "                     variables with only lower bounds:        0\n",
      "                variables with lower and upper bounds:        4\n",
      "                     variables with only upper bounds:        0\n",
      "Total number of equality constraints.................:        2\n",
      "Total number of inequality constraints...............:        0\n",
      "        inequality constraints with only lower bounds:        0\n",
      "   inequality constraints with lower and upper bounds:        0\n",
      "        inequality constraints with only upper bounds:        0\n",
      "\n",
      "iter    objective    inf_pr   inf_du lg(mu)  ||d||  lg(rg) alpha_du alpha_pr  ls\n",
      "   0  1.8420666e-01 2.36e+00 0.00e+00  -1.0 0.00e+00    -  0.00e+00 0.00e+00   0\n",
      "   1  1.3040511e+00 0.00e+00 2.21e+01  -1.0 3.26e-01    -  4.19e-02 1.00e+00f  1\n",
      "   2  1.3050654e+00 0.00e+00 6.60e-11  -1.0 2.95e-02    -  1.00e+00 1.00e+00f  1\n",
      "   3  1.3050404e+00 0.00e+00 6.57e-15  -2.5 2.86e-04    -  1.00e+00 1.00e+00f  1\n",
      "   4  1.3049927e+00 1.11e-16 2.06e-14  -3.8 5.39e-04    -  1.00e+00 1.00e+00f  1\n",
      "   5  1.3049820e+00 0.00e+00 9.82e-16  -5.7 1.17e-04    -  1.00e+00 1.00e+00h  1\n",
      "   6  1.3049821e+00 0.00e+00 1.35e-19  -8.6 1.51e-06    -  1.00e+00 1.00e+00f  1\n",
      "   7  1.3053637e+00 0.00e+00 4.04e-10 -12.9 5.46e-03    -  9.81e-01 1.00e+00f  1\n",
      "   8  1.3055294e+00 2.22e-16 6.03e-12 -12.9 6.20e-03    -  9.95e-01 1.00e+00f  1\n",
      "   9  1.3055295e+00 1.11e-16 1.71e-15 -12.9 1.45e-04    -  1.00e+00 1.00e+00h  1\n",
      "\n",
      "Number of Iterations....: 9\n",
      "\n",
      "                                   (scaled)                 (unscaled)\n",
      "Objective...............:  -1.3055294870673327e-08    1.3055294870673326e+00\n",
      "Dual infeasibility......:   1.7094464668156336e-15    1.7094464668156335e-07\n",
      "Constraint violation....:   1.1102230246251565e-16    1.1102230246251565e-16\n",
      "Variable bound violation:   0.0000000000000000e+00    0.0000000000000000e+00\n",
      "Complementarity.........:   1.2646057214943698e-13    1.2646057214943699e-05\n",
      "Overall NLP error.......:   1.2646057214943698e-13    1.2646057214943699e-05\n",
      "\n",
      "\n",
      "Number of objective function evaluations             = 10\n",
      "Number of objective gradient evaluations             = 10\n",
      "Number of equality constraint evaluations            = 10\n",
      "Number of inequality constraint evaluations          = 0\n",
      "Number of equality constraint Jacobian evaluations   = 1\n",
      "Number of inequality constraint Jacobian evaluations = 0\n",
      "Number of Lagrangian Hessian evaluations             = 9\n",
      "Total seconds in IPOPT                               = 0.807\n",
      "\n",
      "EXIT: Optimal Solution Found.\n"
     ]
    }
   ],
   "source": [
    "optimize!(model)"
   ]
  },
  {
   "cell_type": "code",
   "execution_count": 8,
   "id": "049e0052-7566-4616-9867-e9764caa64e3",
   "metadata": {
    "tags": []
   },
   "outputs": [
    {
     "data": {
      "text/plain": [
       "4-element Vector{Float64}:\n",
       " 0.35462735739108714\n",
       " 0.29643771689278886\n",
       " 0.24779643938113127\n",
       " 0.10113848633499267"
      ]
     },
     "execution_count": 8,
     "metadata": {},
     "output_type": "execute_result"
    }
   ],
   "source": [
    "value.(p)"
   ]
  }
 ],
 "metadata": {
  "kernelspec": {
   "display_name": "Julia 1.8.3",
   "language": "julia",
   "name": "julia-1.8"
  },
  "language_info": {
   "file_extension": ".jl",
   "mimetype": "application/julia",
   "name": "julia",
   "version": "1.8.3"
  }
 },
 "nbformat": 4,
 "nbformat_minor": 5
}
